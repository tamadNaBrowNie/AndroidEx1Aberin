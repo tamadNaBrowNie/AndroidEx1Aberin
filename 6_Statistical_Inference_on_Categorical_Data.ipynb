{
  "cells": [
    {
      "cell_type": "markdown",
      "metadata": {
        "id": "view-in-github",
        "colab_type": "text"
      },
      "source": [
        "<a href=\"https://colab.research.google.com/github/tamadNaBrowNie/AndroidEx1Aberin/blob/master/6_Statistical_Inference_on_Categorical_Data.ipynb\" target=\"_parent\"><img src=\"https://colab.research.google.com/assets/colab-badge.svg\" alt=\"Open In Colab\"/></a>"
      ]
    },
    {
      "cell_type": "markdown",
      "metadata": {
        "id": "Kkjv2BQBraIK"
      },
      "source": [
        "# Statistical Inference on Categorical Data\n",
        "In this Notebook, we will work on more statisical inference, focusing primarily on categorical data. The first two parts of this Notebook is mostly adopted from the [Inferential Statistics](https://www.coursera.org/learn/inferential-statistics-intro/home/welcome) course of Duke University, converted from R to Python and tweaked to match the needs of our CSMODEL course.\n",
        "\n",
        "Our Notebooks in CSMODEL are designed to be guided learning activities. To use them, simply through the cells from top to bottom, following the directions along the way. If you find any unclear parts or mistakes in the Notebooks, email your instructor."
      ]
    },
    {
      "cell_type": "markdown",
      "metadata": {
        "id": "Vq-ZWs9sraIN"
      },
      "source": [
        "## Instructions\n",
        "* Read each cell and implement the TODOs sequentially. The markdown/text cells also contain instructions which you need to follow to get the whole notebook working.\n",
        "* Do not change the variable names unless the instructor allows you to.\n",
        "* Answer all the markdown/text cells with 'Question #' on them. The answer must strictly consume one line only.\n",
        "* You are expected to search how to some functions work on the Internet or via the docs. \n",
        "* The notebooks will undergo a 'Restart and Run All' command, so make sure that your code is working properly.\n",
        "* You are expected to understand the dataset loading and processing separately from this class.\n",
        "* You may not reproduce this notebook or share them to anyone."
      ]
    },
    {
      "cell_type": "markdown",
      "metadata": {
        "id": "RXZ8CZgjraIO"
      },
      "source": [
        "## Import Libraries"
      ]
    },
    {
      "cell_type": "code",
      "execution_count": 36,
      "metadata": {
        "id": "GA0pmliDraIP"
      },
      "outputs": [],
      "source": [
        "import numpy as np\n",
        "import pandas as pd\n",
        "import matplotlib.pyplot as plt\n",
        "from scipy.stats import chi2_contingency as chi\n",
        "from scipy.stats import norm as nm"
      ]
    },
    {
      "cell_type": "markdown",
      "metadata": {
        "id": "ZsyKj-tUraIQ"
      },
      "source": [
        "## Atheism Survey"
      ]
    },
    {
      "cell_type": "markdown",
      "metadata": {
        "id": "pu1FCFL5raIQ"
      },
      "source": [
        "In August of 2012, news outlets ranging from the [Washington Post](http://www.washingtonpost.com/national/on-faith/poll-shows-atheism-on-the-rise-in-the-us/2012/08/13/90020fd6-e57d-11e1-9739-eef99c5fb285_story.html) to the [Huffington Post](http://www.huffingtonpost.com/2012/08/14/atheism-rise-religiosity-decline-in-america_n_1777031.html) presented a story about the rise of atheism in America. They based their story on a poll that asked people, \"Irrespective of whether you attend a place of worship or not, would you say you are a religious person, not a religious person or a convinced atheist?\" This type of question, which asks people to classify themselves in one way or another, is common in polling and generates categorical data. Let's take a look at the atheism survey and explore what's at play when making inference about population proportions using categorical data.\n",
        "\n",
        "The press release for the poll, conducted by WIN-Gallup International, can be accessed [here](https://www.scribd.com/document/136318147/Win-gallup-International-Global-Index-of-Religiosity-and-Atheism-2012)."
      ]
    },
    {
      "cell_type": "markdown",
      "metadata": {
        "id": "XcOO2uE4raIR"
      },
      "source": [
        "**Question #1:** How many people were interviewed for this survey?\n",
        "\n",
        "Answer: 51,927"
      ]
    },
    {
      "cell_type": "markdown",
      "metadata": {
        "id": "uUCqLgI4raIS"
      },
      "source": [
        "**Question #2:** How did the interviewers talk to the selected sample of people?\n",
        "\n",
        "Answer:  mostly in-person, followed by telphone in number, then the rest are online."
      ]
    },
    {
      "cell_type": "markdown",
      "metadata": {
        "id": "yJ8NMztpraIS"
      },
      "source": [
        "Look at [Table 6 in the press release (pages 15 and 16)](https://www.scribd.com/document/136318147/Win-gallup-International-Global-Index-of-Religiosity-and-Atheism-2012), which reports the sample size and response percentages for all 57 countries. While this is a useful format to summarize the data, we will base our analysis on the original dataset of individual responses to the survey. \n",
        "\n",
        "Let's load the dataset:"
      ]
    },
    {
      "cell_type": "code",
      "execution_count": 23,
      "metadata": {
        "colab": {
          "base_uri": "https://localhost:8080/",
          "height": 206
        },
        "id": "SeCNxlRKraIT",
        "outputId": "0517bf86-3610-4224-b8cb-edfc48aa1835"
      },
      "outputs": [
        {
          "output_type": "execute_result",
          "data": {
            "text/plain": [
              "   nationality     response  year\n",
              "0  Afghanistan  non-atheist  2012\n",
              "1  Afghanistan  non-atheist  2012\n",
              "2  Afghanistan  non-atheist  2012\n",
              "3  Afghanistan  non-atheist  2012\n",
              "4  Afghanistan  non-atheist  2012"
            ],
            "text/html": [
              "\n",
              "  <div id=\"df-541ca038-568f-45fc-91b4-f6f09a699266\">\n",
              "    <div class=\"colab-df-container\">\n",
              "      <div>\n",
              "<style scoped>\n",
              "    .dataframe tbody tr th:only-of-type {\n",
              "        vertical-align: middle;\n",
              "    }\n",
              "\n",
              "    .dataframe tbody tr th {\n",
              "        vertical-align: top;\n",
              "    }\n",
              "\n",
              "    .dataframe thead th {\n",
              "        text-align: right;\n",
              "    }\n",
              "</style>\n",
              "<table border=\"1\" class=\"dataframe\">\n",
              "  <thead>\n",
              "    <tr style=\"text-align: right;\">\n",
              "      <th></th>\n",
              "      <th>nationality</th>\n",
              "      <th>response</th>\n",
              "      <th>year</th>\n",
              "    </tr>\n",
              "  </thead>\n",
              "  <tbody>\n",
              "    <tr>\n",
              "      <th>0</th>\n",
              "      <td>Afghanistan</td>\n",
              "      <td>non-atheist</td>\n",
              "      <td>2012</td>\n",
              "    </tr>\n",
              "    <tr>\n",
              "      <th>1</th>\n",
              "      <td>Afghanistan</td>\n",
              "      <td>non-atheist</td>\n",
              "      <td>2012</td>\n",
              "    </tr>\n",
              "    <tr>\n",
              "      <th>2</th>\n",
              "      <td>Afghanistan</td>\n",
              "      <td>non-atheist</td>\n",
              "      <td>2012</td>\n",
              "    </tr>\n",
              "    <tr>\n",
              "      <th>3</th>\n",
              "      <td>Afghanistan</td>\n",
              "      <td>non-atheist</td>\n",
              "      <td>2012</td>\n",
              "    </tr>\n",
              "    <tr>\n",
              "      <th>4</th>\n",
              "      <td>Afghanistan</td>\n",
              "      <td>non-atheist</td>\n",
              "      <td>2012</td>\n",
              "    </tr>\n",
              "  </tbody>\n",
              "</table>\n",
              "</div>\n",
              "      <button class=\"colab-df-convert\" onclick=\"convertToInteractive('df-541ca038-568f-45fc-91b4-f6f09a699266')\"\n",
              "              title=\"Convert this dataframe to an interactive table.\"\n",
              "              style=\"display:none;\">\n",
              "        \n",
              "  <svg xmlns=\"http://www.w3.org/2000/svg\" height=\"24px\"viewBox=\"0 0 24 24\"\n",
              "       width=\"24px\">\n",
              "    <path d=\"M0 0h24v24H0V0z\" fill=\"none\"/>\n",
              "    <path d=\"M18.56 5.44l.94 2.06.94-2.06 2.06-.94-2.06-.94-.94-2.06-.94 2.06-2.06.94zm-11 1L8.5 8.5l.94-2.06 2.06-.94-2.06-.94L8.5 2.5l-.94 2.06-2.06.94zm10 10l.94 2.06.94-2.06 2.06-.94-2.06-.94-.94-2.06-.94 2.06-2.06.94z\"/><path d=\"M17.41 7.96l-1.37-1.37c-.4-.4-.92-.59-1.43-.59-.52 0-1.04.2-1.43.59L10.3 9.45l-7.72 7.72c-.78.78-.78 2.05 0 2.83L4 21.41c.39.39.9.59 1.41.59.51 0 1.02-.2 1.41-.59l7.78-7.78 2.81-2.81c.8-.78.8-2.07 0-2.86zM5.41 20L4 18.59l7.72-7.72 1.47 1.35L5.41 20z\"/>\n",
              "  </svg>\n",
              "      </button>\n",
              "      \n",
              "  <style>\n",
              "    .colab-df-container {\n",
              "      display:flex;\n",
              "      flex-wrap:wrap;\n",
              "      gap: 12px;\n",
              "    }\n",
              "\n",
              "    .colab-df-convert {\n",
              "      background-color: #E8F0FE;\n",
              "      border: none;\n",
              "      border-radius: 50%;\n",
              "      cursor: pointer;\n",
              "      display: none;\n",
              "      fill: #1967D2;\n",
              "      height: 32px;\n",
              "      padding: 0 0 0 0;\n",
              "      width: 32px;\n",
              "    }\n",
              "\n",
              "    .colab-df-convert:hover {\n",
              "      background-color: #E2EBFA;\n",
              "      box-shadow: 0px 1px 2px rgba(60, 64, 67, 0.3), 0px 1px 3px 1px rgba(60, 64, 67, 0.15);\n",
              "      fill: #174EA6;\n",
              "    }\n",
              "\n",
              "    [theme=dark] .colab-df-convert {\n",
              "      background-color: #3B4455;\n",
              "      fill: #D2E3FC;\n",
              "    }\n",
              "\n",
              "    [theme=dark] .colab-df-convert:hover {\n",
              "      background-color: #434B5C;\n",
              "      box-shadow: 0px 1px 3px 1px rgba(0, 0, 0, 0.15);\n",
              "      filter: drop-shadow(0px 1px 2px rgba(0, 0, 0, 0.3));\n",
              "      fill: #FFFFFF;\n",
              "    }\n",
              "  </style>\n",
              "\n",
              "      <script>\n",
              "        const buttonEl =\n",
              "          document.querySelector('#df-541ca038-568f-45fc-91b4-f6f09a699266 button.colab-df-convert');\n",
              "        buttonEl.style.display =\n",
              "          google.colab.kernel.accessAllowed ? 'block' : 'none';\n",
              "\n",
              "        async function convertToInteractive(key) {\n",
              "          const element = document.querySelector('#df-541ca038-568f-45fc-91b4-f6f09a699266');\n",
              "          const dataTable =\n",
              "            await google.colab.kernel.invokeFunction('convertToInteractive',\n",
              "                                                     [key], {});\n",
              "          if (!dataTable) return;\n",
              "\n",
              "          const docLinkHtml = 'Like what you see? Visit the ' +\n",
              "            '<a target=\"_blank\" href=https://colab.research.google.com/notebooks/data_table.ipynb>data table notebook</a>'\n",
              "            + ' to learn more about interactive tables.';\n",
              "          element.innerHTML = '';\n",
              "          dataTable['output_type'] = 'display_data';\n",
              "          await google.colab.output.renderOutput(dataTable, element);\n",
              "          const docLink = document.createElement('div');\n",
              "          docLink.innerHTML = docLinkHtml;\n",
              "          element.appendChild(docLink);\n",
              "        }\n",
              "      </script>\n",
              "    </div>\n",
              "  </div>\n",
              "  "
            ]
          },
          "metadata": {},
          "execution_count": 23
        }
      ],
      "source": [
        "atheism_df = pd.read_csv('/content/drive/MyDrive/Colab Notebooks/atheism.csv')\n",
        "atheism_df.head()"
      ]
    },
    {
      "cell_type": "markdown",
      "metadata": {
        "id": "esG-fsAGraIU"
      },
      "source": [
        "**Question #3:** What does each observation in the dataset represent?\n",
        "\n",
        "Answer: The where,when, and what of the response."
      ]
    },
    {
      "cell_type": "markdown",
      "metadata": {
        "id": "GEaj6_rpraIV"
      },
      "source": [
        "To investigate the link between these two ways of organizing this data, take a look at the estimated proportion of atheists in the United States. Towards the bottom of Table 6, we see that this is 5%. We should be able to come to the same number using the `atheism_df` data."
      ]
    },
    {
      "cell_type": "markdown",
      "metadata": {
        "id": "ppxjIx3iraIW"
      },
      "source": [
        "Let us create a new `DataFrame` containing only the rows from `atheism_df` associated with respondents to the 2012 survey from the United States."
      ]
    },
    {
      "cell_type": "code",
      "execution_count": 24,
      "metadata": {
        "colab": {
          "base_uri": "https://localhost:8080/",
          "height": 424
        },
        "id": "OEztEEPcraIW",
        "outputId": "989556bb-1fba-4be4-84b1-db4a61158fcc"
      },
      "outputs": [
        {
          "output_type": "execute_result",
          "data": {
            "text/plain": [
              "         nationality     response  year\n",
              "49925  United States  non-atheist  2012\n",
              "49926  United States  non-atheist  2012\n",
              "49927  United States  non-atheist  2012\n",
              "49928  United States  non-atheist  2012\n",
              "49929  United States  non-atheist  2012\n",
              "...              ...          ...   ...\n",
              "50922  United States  non-atheist  2012\n",
              "50923  United States  non-atheist  2012\n",
              "50924  United States  non-atheist  2012\n",
              "50925  United States  non-atheist  2012\n",
              "50926  United States  non-atheist  2012\n",
              "\n",
              "[1002 rows x 3 columns]"
            ],
            "text/html": [
              "\n",
              "  <div id=\"df-4dceea33-4389-473a-8ad1-2b8fff982bce\">\n",
              "    <div class=\"colab-df-container\">\n",
              "      <div>\n",
              "<style scoped>\n",
              "    .dataframe tbody tr th:only-of-type {\n",
              "        vertical-align: middle;\n",
              "    }\n",
              "\n",
              "    .dataframe tbody tr th {\n",
              "        vertical-align: top;\n",
              "    }\n",
              "\n",
              "    .dataframe thead th {\n",
              "        text-align: right;\n",
              "    }\n",
              "</style>\n",
              "<table border=\"1\" class=\"dataframe\">\n",
              "  <thead>\n",
              "    <tr style=\"text-align: right;\">\n",
              "      <th></th>\n",
              "      <th>nationality</th>\n",
              "      <th>response</th>\n",
              "      <th>year</th>\n",
              "    </tr>\n",
              "  </thead>\n",
              "  <tbody>\n",
              "    <tr>\n",
              "      <th>49925</th>\n",
              "      <td>United States</td>\n",
              "      <td>non-atheist</td>\n",
              "      <td>2012</td>\n",
              "    </tr>\n",
              "    <tr>\n",
              "      <th>49926</th>\n",
              "      <td>United States</td>\n",
              "      <td>non-atheist</td>\n",
              "      <td>2012</td>\n",
              "    </tr>\n",
              "    <tr>\n",
              "      <th>49927</th>\n",
              "      <td>United States</td>\n",
              "      <td>non-atheist</td>\n",
              "      <td>2012</td>\n",
              "    </tr>\n",
              "    <tr>\n",
              "      <th>49928</th>\n",
              "      <td>United States</td>\n",
              "      <td>non-atheist</td>\n",
              "      <td>2012</td>\n",
              "    </tr>\n",
              "    <tr>\n",
              "      <th>49929</th>\n",
              "      <td>United States</td>\n",
              "      <td>non-atheist</td>\n",
              "      <td>2012</td>\n",
              "    </tr>\n",
              "    <tr>\n",
              "      <th>...</th>\n",
              "      <td>...</td>\n",
              "      <td>...</td>\n",
              "      <td>...</td>\n",
              "    </tr>\n",
              "    <tr>\n",
              "      <th>50922</th>\n",
              "      <td>United States</td>\n",
              "      <td>non-atheist</td>\n",
              "      <td>2012</td>\n",
              "    </tr>\n",
              "    <tr>\n",
              "      <th>50923</th>\n",
              "      <td>United States</td>\n",
              "      <td>non-atheist</td>\n",
              "      <td>2012</td>\n",
              "    </tr>\n",
              "    <tr>\n",
              "      <th>50924</th>\n",
              "      <td>United States</td>\n",
              "      <td>non-atheist</td>\n",
              "      <td>2012</td>\n",
              "    </tr>\n",
              "    <tr>\n",
              "      <th>50925</th>\n",
              "      <td>United States</td>\n",
              "      <td>non-atheist</td>\n",
              "      <td>2012</td>\n",
              "    </tr>\n",
              "    <tr>\n",
              "      <th>50926</th>\n",
              "      <td>United States</td>\n",
              "      <td>non-atheist</td>\n",
              "      <td>2012</td>\n",
              "    </tr>\n",
              "  </tbody>\n",
              "</table>\n",
              "<p>1002 rows × 3 columns</p>\n",
              "</div>\n",
              "      <button class=\"colab-df-convert\" onclick=\"convertToInteractive('df-4dceea33-4389-473a-8ad1-2b8fff982bce')\"\n",
              "              title=\"Convert this dataframe to an interactive table.\"\n",
              "              style=\"display:none;\">\n",
              "        \n",
              "  <svg xmlns=\"http://www.w3.org/2000/svg\" height=\"24px\"viewBox=\"0 0 24 24\"\n",
              "       width=\"24px\">\n",
              "    <path d=\"M0 0h24v24H0V0z\" fill=\"none\"/>\n",
              "    <path d=\"M18.56 5.44l.94 2.06.94-2.06 2.06-.94-2.06-.94-.94-2.06-.94 2.06-2.06.94zm-11 1L8.5 8.5l.94-2.06 2.06-.94-2.06-.94L8.5 2.5l-.94 2.06-2.06.94zm10 10l.94 2.06.94-2.06 2.06-.94-2.06-.94-.94-2.06-.94 2.06-2.06.94z\"/><path d=\"M17.41 7.96l-1.37-1.37c-.4-.4-.92-.59-1.43-.59-.52 0-1.04.2-1.43.59L10.3 9.45l-7.72 7.72c-.78.78-.78 2.05 0 2.83L4 21.41c.39.39.9.59 1.41.59.51 0 1.02-.2 1.41-.59l7.78-7.78 2.81-2.81c.8-.78.8-2.07 0-2.86zM5.41 20L4 18.59l7.72-7.72 1.47 1.35L5.41 20z\"/>\n",
              "  </svg>\n",
              "      </button>\n",
              "      \n",
              "  <style>\n",
              "    .colab-df-container {\n",
              "      display:flex;\n",
              "      flex-wrap:wrap;\n",
              "      gap: 12px;\n",
              "    }\n",
              "\n",
              "    .colab-df-convert {\n",
              "      background-color: #E8F0FE;\n",
              "      border: none;\n",
              "      border-radius: 50%;\n",
              "      cursor: pointer;\n",
              "      display: none;\n",
              "      fill: #1967D2;\n",
              "      height: 32px;\n",
              "      padding: 0 0 0 0;\n",
              "      width: 32px;\n",
              "    }\n",
              "\n",
              "    .colab-df-convert:hover {\n",
              "      background-color: #E2EBFA;\n",
              "      box-shadow: 0px 1px 2px rgba(60, 64, 67, 0.3), 0px 1px 3px 1px rgba(60, 64, 67, 0.15);\n",
              "      fill: #174EA6;\n",
              "    }\n",
              "\n",
              "    [theme=dark] .colab-df-convert {\n",
              "      background-color: #3B4455;\n",
              "      fill: #D2E3FC;\n",
              "    }\n",
              "\n",
              "    [theme=dark] .colab-df-convert:hover {\n",
              "      background-color: #434B5C;\n",
              "      box-shadow: 0px 1px 3px 1px rgba(0, 0, 0, 0.15);\n",
              "      filter: drop-shadow(0px 1px 2px rgba(0, 0, 0, 0.3));\n",
              "      fill: #FFFFFF;\n",
              "    }\n",
              "  </style>\n",
              "\n",
              "      <script>\n",
              "        const buttonEl =\n",
              "          document.querySelector('#df-4dceea33-4389-473a-8ad1-2b8fff982bce button.colab-df-convert');\n",
              "        buttonEl.style.display =\n",
              "          google.colab.kernel.accessAllowed ? 'block' : 'none';\n",
              "\n",
              "        async function convertToInteractive(key) {\n",
              "          const element = document.querySelector('#df-4dceea33-4389-473a-8ad1-2b8fff982bce');\n",
              "          const dataTable =\n",
              "            await google.colab.kernel.invokeFunction('convertToInteractive',\n",
              "                                                     [key], {});\n",
              "          if (!dataTable) return;\n",
              "\n",
              "          const docLinkHtml = 'Like what you see? Visit the ' +\n",
              "            '<a target=\"_blank\" href=https://colab.research.google.com/notebooks/data_table.ipynb>data table notebook</a>'\n",
              "            + ' to learn more about interactive tables.';\n",
              "          element.innerHTML = '';\n",
              "          dataTable['output_type'] = 'display_data';\n",
              "          await google.colab.output.renderOutput(dataTable, element);\n",
              "          const docLink = document.createElement('div');\n",
              "          docLink.innerHTML = docLinkHtml;\n",
              "          element.appendChild(docLink);\n",
              "        }\n",
              "      </script>\n",
              "    </div>\n",
              "  </div>\n",
              "  "
            ]
          },
          "metadata": {},
          "execution_count": 24
        }
      ],
      "source": [
        "# Write your code here\n",
        "df_2012_USA = atheism_df.loc[((atheism_df['year']==2012) &( atheism_df['nationality'] == \"United States\"))]\n",
        "df_2012_USA"
      ]
    },
    {
      "cell_type": "markdown",
      "metadata": {
        "id": "ms6cgE2BraIW"
      },
      "source": [
        "Next, calculate the proportion of atheist responses for people interviewed from the United States in 2012. Express your answer in a floating point number from 0 to 100. Limit to 4 decimal places."
      ]
    },
    {
      "cell_type": "code",
      "execution_count": 45,
      "metadata": {
        "colab": {
          "base_uri": "https://localhost:8080/"
        },
        "id": "YYrSQDBoraIX",
        "outputId": "056d3c5c-1918-4c5a-d0a1-ded429fe815b"
      },
      "outputs": [
        {
          "output_type": "stream",
          "name": "stdout",
          "text": [
            "4.9900%\n"
          ]
        }
      ],
      "source": [
        "# Write your code here\n",
        "df_USA_atheist = df_2012_USA.loc[df_2012_USA[\"response\"] == \"atheist\"]\n",
        "n = len(df_2012_USA.index)\n",
        "xBar = len(df_USA_atheist.index)\n",
        "p_US = xBar/n\n",
        "print(\"{:.4%}\".format(p_US))"
      ]
    },
    {
      "cell_type": "markdown",
      "metadata": {
        "id": "WmcabQzrraIX"
      },
      "source": [
        "**Question #4:** What is the proportion of atheists in the United States in 2012 to the total number of responses from the United States in 2012? Express your answer in a floating point number from 0 to 100. Limit to 4 decimal places.\n",
        "\n",
        "Answer: 0.0499"
      ]
    },
    {
      "cell_type": "markdown",
      "metadata": {
        "id": "qzWD3VGNraIY"
      },
      "source": [
        "**Question #5:** How does the proportion compare with the proportion presented in [Table 6](https://www.scribd.com/document/136318147/Win-gallup-International-Global-Index-of-Religiosity-and-Atheism-2012)?\n",
        "\n",
        "Answer:  our observation is insignificantly (0.0001) off"
      ]
    },
    {
      "cell_type": "markdown",
      "metadata": {
        "id": "cmkwxtfQraIY"
      },
      "source": [
        "### Inference on Survey Data\n",
        "\n",
        "The statistics we compute from our dataset are **sample statistics**. What we'd like, though, is insight into the **population parameters**. The question, \"What proportion of people in your sample reported being atheists?\" is answered with a *statistic*; while the question \"What proportion of people on earth would report being atheists\" is answered with *an estimate of the parameter*."
      ]
    },
    {
      "cell_type": "markdown",
      "metadata": {
        "id": "6aMEVf_7raIY"
      },
      "source": [
        "**Question #6:** What are the conditions to construct a 95% confidence interval for the proportion of atheists in the United States in 2012?\n",
        "\n",
        "Answer: A sample size of 73 may be enough to fit the interval if it is randomly sampled and if all observations are independent."
      ]
    },
    {
      "cell_type": "markdown",
      "metadata": {
        "id": "-uxWcaj7raIZ"
      },
      "source": [
        "**Question #7:** Are you confident that all conditions are met? Explain.\n",
        "\n",
        "Answer: the sample size is 1002 which is greater than the minimum needed of 73.\n",
        "The sample was seemingly taken randomly for each country probably making observations independent. This would mean that all criteria are met and the sample is valid.  "
      ]
    },
    {
      "cell_type": "markdown",
      "metadata": {
        "id": "7xJ3bEXaraIZ"
      },
      "source": [
        "Construct a 95% confidence interval for the proportion of atheists in United States in 2012. We will report the result as:\n",
        "\n",
        "$$p \\pm ME$$\n",
        "\n",
        "where $p$ is the proportion and $ME$ is the margin of error."
      ]
    },
    {
      "cell_type": "markdown",
      "metadata": {
        "id": "2HI2UqABraIZ"
      },
      "source": [
        "As we are dealing with categorical data, we cannot use the previous notebook's margin of error formula since it requires the standard deviation. As such, we are going to obtain the margin of error through the standard error of a **sample proportion**, as presented in the formula below:\n",
        "\n",
        "$$ME =  z^* \\times \\sqrt{\\frac{p(1-p)}{n}}$$\n",
        "\n",
        "where $z^*$ still representing the critical value."
      ]
    },
    {
      "cell_type": "markdown",
      "metadata": {
        "id": "bwSMPLCdraIa"
      },
      "source": [
        "Compute and print the margin of error. Express your answer in a floating point number from 0 to 100. Limit to 4 decimal places."
      ]
    },
    {
      "cell_type": "code",
      "execution_count": 64,
      "metadata": {
        "colab": {
          "base_uri": "https://localhost:8080/"
        },
        "id": "-0H015ZEraIa",
        "outputId": "2071ca94-3607-4d46-beb0-79da02d8d0cd"
      },
      "outputs": [
        {
          "output_type": "stream",
          "name": "stdout",
          "text": [
            "0.0135\n"
          ]
        }
      ],
      "source": [
        "import math\n",
        "# Write your code here\n",
        "z =nm.ppf(0.975)\n",
        "fract = z*math.sqrt(0.95*0.05/n)\n",
        "print('{:.4f}'.format(fract))\n"
      ]
    },
    {
      "cell_type": "markdown",
      "metadata": {
        "id": "Uku4UcZgraIa"
      },
      "source": [
        "**Question #8:** Given a 95% confidence level, what is the margin of error? Express your answer in a floating point number from 0 to 100. Limit to 4 decimal places.\n",
        "\n",
        "Answer: 0.0135"
      ]
    },
    {
      "cell_type": "markdown",
      "metadata": {
        "id": "ASO8Zs76raIb"
      },
      "source": [
        "Compute and print the confidence interval (minimum value, maximum value). Express your answer in a floating point number from 0 to 100. Limit to 4 decimal places."
      ]
    },
    {
      "cell_type": "code",
      "execution_count": 65,
      "metadata": {
        "colab": {
          "base_uri": "https://localhost:8080/"
        },
        "id": "b3nXDLX9raIb",
        "outputId": "f227b357-524d-4e9a-cbc0-7ebebdd5c3c9"
      },
      "outputs": [
        {
          "output_type": "stream",
          "name": "stdout",
          "text": [
            "(0.0364,0.0634)\n"
          ]
        }
      ],
      "source": [
        "# Write your code here\n",
        "ub = p_US + fract\n",
        "lb = p_US - fract\n",
        "ci = (lb,ub)\n",
        "print('({:.4f},{:.4f})'.format(*ci))"
      ]
    },
    {
      "cell_type": "markdown",
      "metadata": {
        "id": "9z--njeRraIb"
      },
      "source": [
        "**Question #9:** Specify the confidence interval as a range of values (minimum value, maximum value). Express your answer in a floating point number from 0 to 100. Limit to 4 decimal places.\n",
        "\n",
        "Answer: (0.0364,0.0634)"
      ]
    },
    {
      "cell_type": "markdown",
      "metadata": {
        "id": "zbf0JZcyraIb"
      },
      "source": [
        "Although formal confidence intervals and hypothesis tests don't show up in the report, suggestions of inference appear at the bottom of page 7: \"In general, the error margin for surveys of this kind is $\\pm$ 3-5% at 95% confidence.\""
      ]
    },
    {
      "cell_type": "markdown",
      "metadata": {
        "id": "VjQkHYJwraIb"
      },
      "source": [
        "## Proportion and Margin of Error\n",
        "\n",
        "Imagine you interviewed 1000 people on two questions: are you religious? and are you from Luzon? Even though both of these sample proportions are calculated from the same sample size, they might not have the same margin of error. Aside from being affected by the sample size, the margin of error is also affected by the proportion.\n",
        "\n",
        "Since the population proportion $p$ is in this $ME$ formula, it should make sense that the margin of error is in some way dependent on the population proportion. We can visualize this relationship by creating a plot of $ME$ vs. $p$."
      ]
    },
    {
      "cell_type": "markdown",
      "metadata": {
        "id": "F8KlosaOraIb"
      },
      "source": [
        "Generate values from 0 to 1 with interval of 0.01. Store the values in variable `p`."
      ]
    },
    {
      "cell_type": "code",
      "execution_count": 57,
      "metadata": {
        "colab": {
          "base_uri": "https://localhost:8080/"
        },
        "id": "8w1yzuy6raIc",
        "outputId": "88336f90-9dcd-45f4-9fe8-224972e34236"
      },
      "outputs": [
        {
          "output_type": "execute_result",
          "data": {
            "text/plain": [
              "[0.0,\n",
              " 0.01,\n",
              " 0.02,\n",
              " 0.03,\n",
              " 0.04,\n",
              " 0.05,\n",
              " 0.06,\n",
              " 0.07,\n",
              " 0.08,\n",
              " 0.09,\n",
              " 0.1,\n",
              " 0.11,\n",
              " 0.12,\n",
              " 0.13,\n",
              " 0.14,\n",
              " 0.15,\n",
              " 0.16,\n",
              " 0.17,\n",
              " 0.18,\n",
              " 0.19,\n",
              " 0.2,\n",
              " 0.21,\n",
              " 0.22,\n",
              " 0.23,\n",
              " 0.24,\n",
              " 0.25,\n",
              " 0.26,\n",
              " 0.27,\n",
              " 0.28,\n",
              " 0.29,\n",
              " 0.3,\n",
              " 0.31,\n",
              " 0.32,\n",
              " 0.33,\n",
              " 0.34,\n",
              " 0.35,\n",
              " 0.36,\n",
              " 0.37,\n",
              " 0.38,\n",
              " 0.39,\n",
              " 0.4,\n",
              " 0.41,\n",
              " 0.42,\n",
              " 0.43,\n",
              " 0.44,\n",
              " 0.45,\n",
              " 0.46,\n",
              " 0.47,\n",
              " 0.48,\n",
              " 0.49,\n",
              " 0.5,\n",
              " 0.51,\n",
              " 0.52,\n",
              " 0.53,\n",
              " 0.54,\n",
              " 0.55,\n",
              " 0.56,\n",
              " 0.57,\n",
              " 0.58,\n",
              " 0.59,\n",
              " 0.6,\n",
              " 0.61,\n",
              " 0.62,\n",
              " 0.63,\n",
              " 0.64,\n",
              " 0.65,\n",
              " 0.66,\n",
              " 0.67,\n",
              " 0.68,\n",
              " 0.69,\n",
              " 0.7,\n",
              " 0.71,\n",
              " 0.72,\n",
              " 0.73,\n",
              " 0.74,\n",
              " 0.75,\n",
              " 0.76,\n",
              " 0.77,\n",
              " 0.78,\n",
              " 0.79,\n",
              " 0.8,\n",
              " 0.81,\n",
              " 0.82,\n",
              " 0.83,\n",
              " 0.84,\n",
              " 0.85,\n",
              " 0.86,\n",
              " 0.87,\n",
              " 0.88,\n",
              " 0.89,\n",
              " 0.9,\n",
              " 0.91,\n",
              " 0.92,\n",
              " 0.93,\n",
              " 0.94,\n",
              " 0.95,\n",
              " 0.96,\n",
              " 0.97,\n",
              " 0.98,\n",
              " 0.99,\n",
              " 1.0]"
            ]
          },
          "metadata": {},
          "execution_count": 57
        }
      ],
      "source": [
        "# Write your code here\n",
        "p= [x/100 for x in range(0,101,1)]\n",
        "p"
      ]
    },
    {
      "cell_type": "markdown",
      "metadata": {
        "id": "DhcYM2dHraIc"
      },
      "source": [
        "Let's set the sample size `n` to 1000."
      ]
    },
    {
      "cell_type": "code",
      "execution_count": 76,
      "metadata": {
        "id": "VWFQAQnTraId"
      },
      "outputs": [],
      "source": [
        "n = 1000"
      ]
    },
    {
      "cell_type": "markdown",
      "metadata": {
        "id": "rU9SZ6THraId"
      },
      "source": [
        "Compute the margin of error for each value in `p` given a 99% confidence level. Store the values in variable `me`."
      ]
    },
    {
      "cell_type": "code",
      "execution_count": 77,
      "metadata": {
        "id": "aszTnyBaraId"
      },
      "outputs": [],
      "source": [
        "# Write your code here\n",
        "def cal(prob):\n",
        "    z =nm.ppf(0.995)\n",
        "    return z*math.sqrt(prob*(1-prob)/n)\n",
        "\n",
        "me = list(map(cal,p))\n"
      ]
    },
    {
      "cell_type": "markdown",
      "metadata": {
        "id": "2BA53ouaraId"
      },
      "source": [
        "Let's plot the relationship between `p` and `me`."
      ]
    },
    {
      "cell_type": "code",
      "execution_count": 75,
      "metadata": {
        "colab": {
          "base_uri": "https://localhost:8080/",
          "height": 282
        },
        "id": "0Lk-0wOxraIe",
        "outputId": "9c354899-2601-45d8-d8f7-f0cd3c9c87aa"
      },
      "outputs": [
        {
          "output_type": "execute_result",
          "data": {
            "text/plain": [
              "[<matplotlib.lines.Line2D at 0x7ffafb2cdd90>]"
            ]
          },
          "metadata": {},
          "execution_count": 75
        },
        {
          "output_type": "display_data",
          "data": {
            "text/plain": [
              "<Figure size 432x288 with 1 Axes>"
            ],
            "image/png": "[encoded data removed]"
          },
          "metadata": {
            "needs_background": "light"
          }
        }
      ],
      "source": [
        "plt.plot(p, me, 'k')"
      ]
    },
    {
      "cell_type": "markdown",
      "metadata": {
        "id": "zwy--T9jraIe"
      },
      "source": [
        "**Question #10:** When do we get a low margin of error?\n",
        "\n",
        "Answer: when proportions approach 0 or 1"
      ]
    },
    {
      "cell_type": "markdown",
      "metadata": {
        "id": "E6vRYIagraIf"
      },
      "source": [
        "**Question #11:** What is the margin of error when the proportion is 50%?\n",
        "\n",
        "Answer: 0.040"
      ]
    },
    {
      "cell_type": "markdown",
      "metadata": {
        "id": "5jHJvzkXraIf"
      },
      "source": [
        "## Behavioral Survey Data\n",
        "\n",
        "Next, we will look at behaviorial survey data. The Behavioral Risk Factor Surveillance System (BRFSS) is an annual telephone survey of 350,000 people in the United States collected by the Centers for Disease Control and Prevention (CDC). The BRFSS identifies risk factors in the adult population and report emerging health trends. For example, respondents are asked about their diet and weekly physical activity, their HIV/AIDS status, possible tobacco use, and even their level of healthcare coverage. The [BRFSS Web site](https://www.openintro.org/redirect.php?go=cdc_data_brfss&referrer=data_set_page) contains a complete description of the survey, the questions that were asked, and even research results that have been derived from the data.\n",
        "\n",
        "This dataset is a random sample of 20,000 people from the BRFSS survey conducted in 2000. While there are over 200 questions or variables in this dataset, the one will we will use in this Notebok only includes 3 variables."
      ]
    },
    {
      "cell_type": "code",
      "execution_count": null,
      "metadata": {
        "id": "47q9BIE1raIf"
      },
      "outputs": [],
      "source": [
        "cdc_df = pd.read_csv('cdcpartial.csv')\n",
        "cdc_df.head()"
      ]
    },
    {
      "cell_type": "markdown",
      "metadata": {
        "id": "2Gj3DxMKraIg"
      },
      "source": [
        "The variables in this Notebook are as follows:\n",
        "\n",
        "- `genhlth` - A categorical vector indicating general health, with categories `excellent`, `very good`, `good`, `fair`, and `poor`.\n",
        "- `smoke100` - A categorical vector, 1 if the respondent has smoked at least 100 cigarettes in their entire life and 0 otherwise.\n",
        "- `exerany` - A categorical vector, 1 if the respondent exercised in the past month and 0 otherwise."
      ]
    },
    {
      "cell_type": "markdown",
      "metadata": {
        "id": "e62Skho7raIg"
      },
      "source": [
        "### Test of Independence Using Pearson's Chi-Squared Test\n",
        "Let's check if the general health of people is independent of whether they exercised in the past month or not."
      ]
    },
    {
      "cell_type": "markdown",
      "metadata": {
        "id": "NVRf3IsEraIg"
      },
      "source": [
        "First, group the sample depending on whether they exercised or not in the past month. This should produce two groups. Afterwards, count the number of people in each group for each general health level. \n",
        "\n",
        "Store the values in variable `counts`."
      ]
    },
    {
      "cell_type": "code",
      "execution_count": null,
      "metadata": {
        "id": "iAq3ppBvraIh"
      },
      "outputs": [],
      "source": [
        "# Write your code here\n"
      ]
    },
    {
      "cell_type": "markdown",
      "metadata": {
        "id": "cbtHhTS4raIh"
      },
      "source": [
        "Let's display the count per subgroup."
      ]
    },
    {
      "cell_type": "code",
      "execution_count": null,
      "metadata": {
        "id": "gCZ8DbRRraIh"
      },
      "outputs": [],
      "source": [
        "counts"
      ]
    },
    {
      "cell_type": "markdown",
      "metadata": {
        "id": "ZeQok71yraIh"
      },
      "source": [
        "**Question #12:** How many of the respondents exercised last month and reported 'excellent' general health?\n",
        "\n",
        "Answer: "
      ]
    },
    {
      "cell_type": "markdown",
      "metadata": {
        "id": "f0BowqChraIi"
      },
      "source": [
        "**Question #13:** How many of the respondents did not exercise last month but reported 'very good' general health?\n",
        "\n",
        "Answer: "
      ]
    },
    {
      "cell_type": "markdown",
      "metadata": {
        "id": "QwkhqxeLraIi"
      },
      "source": [
        "At first glance, it appears that people who have exercised in the past month has better general health, but we do not know if this difference is statistically significant.\n",
        "\n",
        "Let's use the chi-square test to determine whether the general health of people is independent of whether they exercised in the past month or not."
      ]
    },
    {
      "cell_type": "markdown",
      "metadata": {
        "id": "CS8fzXU5raIi"
      },
      "source": [
        "First, we need to convert our counts into a table format. We will create a new DataFrame for this."
      ]
    },
    {
      "cell_type": "code",
      "execution_count": null,
      "metadata": {
        "id": "InXkoOlnraIj"
      },
      "outputs": [],
      "source": [
        "table = pd.DataFrame([counts[0], counts[1]], index=['no exercise', 'exercise']).transpose()\n",
        "table"
      ]
    },
    {
      "cell_type": "markdown",
      "metadata": {
        "id": "_1g-h8x-raIj"
      },
      "source": [
        "We then use the [`chi2_contingency()`](https://docs.scipy.org/doc/scipy/reference/generated/scipy.stats.chi2_contingency.html) function from SciPy to perform a Chi-Square test on this table. This function will automatically perform the necessary steps for a Chi-Square test:\n",
        "\n",
        "- Compute the expected values for each cell under the null hypothesis\n",
        "- Compute the Chi-Square statistic\n",
        "- Compute the $p$-value of the statistic based on the Chi-Square distribution with the appropriate degrees of freedom"
      ]
    },
    {
      "cell_type": "code",
      "execution_count": null,
      "metadata": {
        "id": "MEJFnvc4raIj"
      },
      "outputs": [],
      "source": [
        "# Write your code here\n"
      ]
    },
    {
      "cell_type": "markdown",
      "metadata": {
        "id": "v_R_rQVHraIj"
      },
      "source": [
        "To further understand the parameters and the return values of the `chi2_contingency()` function, you may refer to the documentation [here](https://docs.scipy.org/doc/scipy/reference/generated/scipy.stats.chi2_contingency.html)."
      ]
    },
    {
      "cell_type": "markdown",
      "metadata": {
        "id": "12qr7kkHraIk"
      },
      "source": [
        "**Question #14:** Briefly state the null hypothesis.\n",
        "\n",
        "Answer: "
      ]
    },
    {
      "cell_type": "markdown",
      "metadata": {
        "id": "VWWy-VvrraIk"
      },
      "source": [
        "**Question #15:** Briefly state the alternative hypothesis.\n",
        "\n",
        "Answer: "
      ]
    },
    {
      "cell_type": "markdown",
      "metadata": {
        "id": "97VycXAMraIk"
      },
      "source": [
        "**Question #16:** What is the value of the chi-square statistic? Limit to 4 decimal places.\n",
        "\n",
        "Answer: "
      ]
    },
    {
      "cell_type": "markdown",
      "metadata": {
        "id": "b64LRMw7raIk"
      },
      "source": [
        "**Question #17:** What is the $p$-value? Use the exponential notation and limit to 4 decimal places.\n",
        "\n",
        "Answer: "
      ]
    },
    {
      "cell_type": "markdown",
      "metadata": {
        "id": "89YrkCNbraIl"
      },
      "source": [
        "**Question #18:** What is the expected count for those who did not exercise in the last month but reported 'good' general health? Limit to 4 decimal places.\n",
        "\n",
        "Answer: "
      ]
    },
    {
      "cell_type": "markdown",
      "metadata": {
        "id": "l9ZHhihkraIl"
      },
      "source": [
        "**Question #19:** At a significance level of 0.05, what can we conclude from the $p$-value? State your conclusion.\n",
        "\n",
        "Answer: "
      ]
    },
    {
      "cell_type": "markdown",
      "metadata": {
        "id": "jgX9YAIcraIm"
      },
      "source": [
        "### Another Test of Independence Using Pearson's Chi-Squared Test\n",
        "\n",
        "\n",
        "Let's check if the general health of people is independent of whether they have smoked at least 100 cigarettes in their entire life or not."
      ]
    },
    {
      "cell_type": "markdown",
      "metadata": {
        "id": "ehCL5q3eraIm"
      },
      "source": [
        "First, group the sample depending on whether they have smoked at least 100 cigarettes in their entire life or not. This should produce two groups. Afterwards, count the number of people in each group for each general health level. \n",
        "\n",
        "Store the values in variable `counts`."
      ]
    },
    {
      "cell_type": "code",
      "execution_count": null,
      "metadata": {
        "id": "n_ha17XTraIm"
      },
      "outputs": [],
      "source": [
        "# Write your code here\n"
      ]
    },
    {
      "cell_type": "markdown",
      "metadata": {
        "id": "9FsHi-0HraIn"
      },
      "source": [
        "Let's display the count per subgroup."
      ]
    },
    {
      "cell_type": "code",
      "execution_count": null,
      "metadata": {
        "id": "eavesgOeraIn"
      },
      "outputs": [],
      "source": [
        "counts"
      ]
    },
    {
      "cell_type": "markdown",
      "metadata": {
        "id": "gDPGygH1raIn"
      },
      "source": [
        "Convert our counts into a table format. The `DataFrame` should have 2 columns and 5 rows."
      ]
    },
    {
      "cell_type": "code",
      "execution_count": null,
      "metadata": {
        "id": "5X1bhuIDraIn"
      },
      "outputs": [],
      "source": [
        "# Write your code here\n"
      ]
    },
    {
      "cell_type": "markdown",
      "metadata": {
        "id": "BLM7uHUxraIo"
      },
      "source": [
        "**Question #20:** How many smoked less than 100 cigarettes in their entire life but have a 'poor' general health level?\n",
        "\n",
        "Answer: "
      ]
    },
    {
      "cell_type": "markdown",
      "metadata": {
        "id": "aWOeq-ujraIo"
      },
      "source": [
        "**Question #21:** How many smoked at least 100 cigarettes in their entire life but have an 'excellent' general health level?\n",
        "\n",
        "Answer: "
      ]
    },
    {
      "cell_type": "markdown",
      "metadata": {
        "id": "6sA0Z3OvraIo"
      },
      "source": [
        "Compute the $p$-value."
      ]
    },
    {
      "cell_type": "code",
      "execution_count": null,
      "metadata": {
        "id": "Q_qiOS8rraIo"
      },
      "outputs": [],
      "source": [
        "# Write your code here\n"
      ]
    },
    {
      "cell_type": "markdown",
      "metadata": {
        "id": "aMOrcN3wraIp"
      },
      "source": [
        "**Question #22:** Briefly state the null hypothesis.\n",
        "\n",
        "Answer: "
      ]
    },
    {
      "cell_type": "markdown",
      "metadata": {
        "id": "Tqaj9-b8raIp"
      },
      "source": [
        "**Question #23:** Briefly state the alternative hypothesis.\n",
        "\n",
        "Answer: "
      ]
    },
    {
      "cell_type": "markdown",
      "metadata": {
        "id": "uU7d7nabraIp"
      },
      "source": [
        "**Question #24:** What is the value of the chi-square statistic? Limit to 4 decimal places.\n",
        "\n",
        "Answer: "
      ]
    },
    {
      "cell_type": "markdown",
      "metadata": {
        "id": "z9R8yCD4raIq"
      },
      "source": [
        "**Question #25:** What is the $p$-value? Use the exponential notation and limit to 4 decimal places.\n",
        "\n",
        "Answer: "
      ]
    },
    {
      "cell_type": "markdown",
      "metadata": {
        "id": "0kq1tXzJraIq"
      },
      "source": [
        "**Question #26:** At a significance level of 0.05, what can we conclude from the $p$-value? State your conclusion.\n",
        "\n",
        "Answer: "
      ]
    }
  ],
  "metadata": {
    "kernelspec": {
      "display_name": "Python 3",
      "language": "python",
      "name": "python3"
    },
    "language_info": {
      "codemirror_mode": {
        "name": "ipython",
        "version": 3
      },
      "file_extension": ".py",
      "mimetype": "text/x-python",
      "name": "python",
      "nbconvert_exporter": "python",
      "pygments_lexer": "ipython3",
      "version": "3.9.4"
    },
    "vscode": {
      "interpreter": {
        "hash": "81794d4967e6c3204c66dcd87b604927b115b27c00565d3d43f05ba2f3a2cb0d"
      }
    },
    "colab": {
      "provenance": [],
      "collapsed_sections": [
        "Vq-ZWs9sraIN",
        "jgX9YAIcraIm"
      ],
      "include_colab_link": true
    }
  },
  "nbformat": 4,
  "nbformat_minor": 0
}